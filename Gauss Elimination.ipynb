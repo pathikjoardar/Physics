{
 "cells": [
  {
   "cell_type": "markdown",
   "id": "ff238aaa",
   "metadata": {},
   "source": [
    "## Gauss Elimination"
   ]
  },
  {
   "cell_type": "code",
   "execution_count": 13,
   "id": "70153652",
   "metadata": {},
   "outputs": [
    {
     "name": "stdout",
     "output_type": "stream",
     "text": [
      "[ 2.24999993 -1.12500044  0.62500028]\n"
     ]
    }
   ],
   "source": [
    "import numpy as np\n",
    "\n",
    "def GE(A,n):\n",
    "    for k in range(n-1):\n",
    "        for i in range(k+1,n):\n",
    "            r=A[i,k]/A[k,k]\n",
    "            A[i,:]=A[i,:]-r*A[k,:]\n",
    "    return\n",
    "\n",
    "def BS(A,n):\n",
    "    X=np.zeros(n)\n",
    "    B=A[:,-1]\n",
    "    for i in range(n-1,-1,-1):\n",
    "        X[i]=(B[i]-np.sum(A[i,i+1:n]*X[i+1:n]))/A[i,i]\n",
    "    return X\n",
    "\n",
    "A=np.array([[3,2,4,7],\n",
    "            [2,1,1,4],\n",
    "            [1,3,5,2]],dtype='f')\n",
    "\n",
    "n=len(A)\n",
    "GE(A,n)\n",
    "X=BS(A,n)\n",
    "print(X)"
   ]
  },
  {
   "cell_type": "code",
   "execution_count": null,
   "id": "52da1b4d",
   "metadata": {},
   "outputs": [],
   "source": []
  }
 ],
 "metadata": {
  "kernelspec": {
   "display_name": "Python 3 (ipykernel)",
   "language": "python",
   "name": "python3"
  },
  "language_info": {
   "codemirror_mode": {
    "name": "ipython",
    "version": 3
   },
   "file_extension": ".py",
   "mimetype": "text/x-python",
   "name": "python",
   "nbconvert_exporter": "python",
   "pygments_lexer": "ipython3",
   "version": "3.10.6"
  }
 },
 "nbformat": 4,
 "nbformat_minor": 5
}
